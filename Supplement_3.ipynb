{
  "cells": [
    {
      "cell_type": "markdown",
      "metadata": {
        "id": "view-in-github",
        "colab_type": "text"
      },
      "source": [
        "<a href=\"https://colab.research.google.com/github/harabbilal/MLSP-Ex-3/blob/main/Supplement_3.ipynb\" target=\"_parent\"><img src=\"https://colab.research.google.com/assets/colab-badge.svg\" alt=\"Open In Colab\"/></a>"
      ]
    },
    {
      "cell_type": "markdown",
      "metadata": {
        "id": "rw_aA2nCVB7f"
      },
      "source": [
        "## Supplement 3: Regression"
      ]
    },
    {
      "cell_type": "code",
      "execution_count": 1,
      "metadata": {
        "id": "gFJDLJiaVB7i"
      },
      "outputs": [],
      "source": [
        "%load_ext autoreload\n",
        "%autoreload 2\n",
        "%matplotlib inline\n",
        "import matplotlib.pyplot as plt\n",
        "import matplotlib.colors as colors\n",
        "import numpy as np"
      ]
    },
    {
      "cell_type": "markdown",
      "metadata": {
        "id": "a9WcnXFQVB7j"
      },
      "source": [
        "### 3.2 Programming Task: Gradient Descent\n",
        "Consider the function $J(\\boldsymbol{w})=J(w_1, w_2) =-e^{-\\frac{1}{100}(w_1^2 + w_2^2 -w_1w_2 - 2w_1  + 4w_2 + 5)} - 2 e^{-(w_1^2  + w_2^2  - 4w_1- 9 w_2 + 25)}.$\n",
        "\n",
        "i\\. Plot $J(\\boldsymbol{w})$ as a function of $\\boldsymbol{w}$ using the contour plot using the Matplotlib module."
      ]
    },
    {
      "cell_type": "code",
      "execution_count": 8,
      "metadata": {
        "colab": {
          "base_uri": "https://localhost:8080/",
          "height": 472
        },
        "id": "PptWx0IgVB7k",
        "outputId": "1d1838f2-f424-4af6-e6c9-4fdc38cd1344"
      },
      "outputs": [
        {
          "output_type": "display_data",
          "data": {
            "text/plain": [
              "<Figure size 640x480 with 2 Axes>"
            ],
            "image/png": "[encoded data removed]"
          },
          "metadata": {}
        }
      ],
      "source": [
        "# TODO: Define function J(w)\n",
        "\n",
        "def J(w1, w2):  # Modified to accept two arguments: w1 and w2\n",
        "  return -np.exp(-(w1**2 + w2**2 - w1*w2 - 2*w1 + 4*w2 + 5)) - 2*np.exp(-(w1**2 + w2**2 - 4*w1 - 9*w2 + 25))\n",
        "\n",
        "w1 = np.linspace(-5, 5, 100)  # Adjust range as needed\n",
        "w2 = np.linspace(-5, 5, 100)  # Adjust range as needed\n",
        "w1_grid, w2_grid = np.meshgrid(w1, w2)\n",
        "\n",
        "\n",
        "# Use np.vectorize to apply J to each point in the grid\n",
        "J_vectorized = np.vectorize(J)\n",
        "J_values = J_vectorized(w1_grid, w2_grid) # Calculate J_values using vectorized function\n",
        "\n",
        "# TODO: Prepare contours plot of J(w)\n",
        "\n",
        "contour = plt.contourf(w1_grid, w2_grid, J_values, levels=50, cmap='viridis') # Updated to use w1_grid and w2_grid\n",
        "plt.colorbar(contour)\n",
        "plt.title('Contour Plot of J(w)')\n",
        "plt.xlabel('w1')\n",
        "plt.ylabel('w2')\n",
        "plt.show()"
      ]
    },
    {
      "cell_type": "markdown",
      "metadata": {
        "id": "W6ZB5QGoVB7l"
      },
      "source": [
        "ii\\. Obtain the gradient of the above function by hand.\n",
        "            \n",
        "  $Hint:   \\nabla J(\\boldsymbol{w}) = \\left(\n",
        "  \\begin{array}{c}\n",
        "    \\frac{\\partial J(\\boldsymbol{w})}{\\partial w_1} \\\\ %\n",
        "    \\frac{\\partial J(\\boldsymbol{w})}{\\partial w_2}\n",
        "  \\end{array} \\right)\n",
        "$\n",
        "\n",
        "iii\\. Implement gradient descent algorithm described in the lecture to find the minimum of this\n",
        "            function using the NumPy module. Plot the location of the new $\\boldsymbol{w}$ after each iteration on the contour plot."
      ]
    },
    {
      "cell_type": "code",
      "execution_count": null,
      "metadata": {
        "id": "c7Xi5nw-VB7m"
      },
      "outputs": [],
      "source": [
        "# TODO: Define function gradient_J(w)\n",
        "\n",
        "\n",
        "\n",
        "# TODO: Define the gradient descent algorithm as function\n",
        "\n",
        "\n",
        "\n",
        "\n",
        "# TODO: Train w\n",
        "# Store each update of w in an array to make plot later.\n",
        "\n",
        "\n",
        "\n",
        "# TODO: Prepare contour plot and mark each weight update on the plot.\n",
        "\n",
        "\n"
      ]
    },
    {
      "cell_type": "markdown",
      "metadata": {
        "id": "hfKQS1gDVB7m"
      },
      "source": [
        "### 3.3 Programming Task: Housing Price Regression Problem\n",
        "The file __house\\_prices.txt__ contains a data set of house prices: the\n",
        "first column is the house size in square feet, the second column is the number\n",
        "of bedrooms, the third column is the price in USD.\n",
        "\n",
        "\n",
        "i\\. Plot house prices vs. house sizes as a scatter plot."
      ]
    },
    {
      "cell_type": "code",
      "execution_count": null,
      "metadata": {
        "id": "kdKfXZo5VB7n"
      },
      "outputs": [],
      "source": [
        "# TODO: Read and prepare scatter plot\n",
        "\n",
        "\n"
      ]
    },
    {
      "cell_type": "markdown",
      "metadata": {
        "id": "p4l___j7VB7n"
      },
      "source": [
        "ii\\. Next, fit the linear regression to these data points. You should not use\n",
        "    any other python module besides NumPy to find the weights of the model.\n",
        "\n",
        "* Consider the linear model $h_{\\boldsymbol{w}}(\\boldsymbol{x})=w_0 x_0 + w_1 x_1={\\boldsymbol{w}}^\\top\\boldsymbol{x}$,\n",
        "    where $x_1$ is the house size in the first column of __house\\_prices.txt__, $x_0=1$ by convention, $\\boldsymbol{x}={[x_0,x_1]}^\\top$,\n",
        "    and $\\boldsymbol{w}={[w_0, w_1]}^\\top$. Define the cost function on the dataset:\n",
        "\n",
        "    $J(\\boldsymbol{w})=\\frac{1}{2}\\sum_{i=1}^{n} \\left(h_{\\boldsymbol{w}}(\\boldsymbol{x}^{(i)})-y^{(i)}\\right)^2.$\n",
        "\n",
        "\n",
        "    Above, $n$ is the number of rows in __house_prices.txt__, $y^{(i)}$\n",
        "    is the house price given in the third column of the file, $\\boldsymbol{x}^{(i)} = {[1\\\n",
        "    x_1^{(i)}]}$ and $x_1^{(i)}$ is the house size from the first column and\n",
        "    $i$th row of the file. $h_{\\boldsymbol{w}}(\\cdot)$ represents the linear regression model. Plot $J(\\boldsymbol{w})$ as a function of $\\boldsymbol{w}$ using the contour\n",
        "    plot. You may rescale the data if required."
      ]
    },
    {
      "cell_type": "code",
      "execution_count": null,
      "metadata": {
        "id": "Z3-YYD7yVB7o"
      },
      "outputs": [],
      "source": [
        "# TODO: Define function J(w)\n",
        "\n",
        "\n",
        "\n",
        "# TODO: Define function gradient_J(w)\n",
        "\n",
        "\n",
        "\n",
        "# TODO: Plot the cost function\n"
      ]
    },
    {
      "cell_type": "markdown",
      "metadata": {
        "id": "XDNI86fgVB7p"
      },
      "source": [
        "* Start with some initial value $\\boldsymbol{w}$\n",
        "and run the steps of the gradient descent algorithm (you may reuse revelant\n",
        "parts of the solution from task 3.2). Plot the location of each new $\\boldsymbol{w}$ on\n",
        "the contour plot similar to the previous task."
      ]
    },
    {
      "cell_type": "code",
      "execution_count": null,
      "metadata": {
        "id": "sf__okRSVB7p"
      },
      "outputs": [],
      "source": [
        "# TODO: Train w\n",
        "# Store each update of w in an array to make plot later.\n",
        "\n",
        "\n",
        "\n",
        "# TODO: Prepare contour plot and mark each weight update on the plot.\n",
        "\n",
        "\n",
        "# OPTIONAL: Plot the resulting linear regression function"
      ]
    },
    {
      "cell_type": "markdown",
      "metadata": {
        "id": "MIff7WYEVB7p"
      },
      "source": [
        "* Experiment by making changes to the learning rate of the gradient descent\n",
        "algorithm. Observe how the path of the algorithm changes. Make sure that the\n",
        "algorithm converges to the true minimum of the function $J(\\boldsymbol{w})$."
      ]
    },
    {
      "cell_type": "code",
      "execution_count": null,
      "metadata": {
        "id": "rpJ5bRFRVB7q"
      },
      "outputs": [],
      "source": [
        "# TODO: Define alphas (learning rates) to test.\n",
        "\n",
        "\n",
        "\n",
        "\n",
        "# TODO: Repeat experiment for each alpha and observe the contour plot in each case. You may use subplots in Matplotlib for the plots.\n",
        "\n",
        "\n",
        "\n"
      ]
    },
    {
      "cell_type": "markdown",
      "metadata": {
        "id": "wLx7pcm4VB7q"
      },
      "source": [
        "iii\\. Determine the weights of the model using the closed form solution for $\\boldsymbol{w}$:\n",
        "\\begin{align}\n",
        "    \\hat{\\mathbf{w}} = \\left(\\mathbf{X}^T\\mathbf{X}\\right)^{-1}\\mathbf{X}^Ty\n",
        "\\end{align}\n",
        "Above, $\\mathbf{y} = [y^{(1)},..., y^{(n)}]^T$ and $\\mathbf{X}$ is the data matrix whose rows are $x^{(i)}$. Is this the same point that you have found above using gradient descent?"
      ]
    },
    {
      "cell_type": "code",
      "execution_count": null,
      "metadata": {
        "id": "rbyDAmq0VB7q"
      },
      "outputs": [],
      "source": [
        "# TODO: Compute the closed form solution\n"
      ]
    }
  ],
  "metadata": {
    "kernel_info": {
      "name": "python3"
    },
    "kernelspec": {
      "display_name": "Python 3.9.6 ('mink')",
      "language": "python",
      "name": "python3"
    },
    "language_info": {
      "codemirror_mode": {
        "name": "ipython",
        "version": 3
      },
      "file_extension": ".py",
      "mimetype": "text/x-python",
      "name": "python",
      "nbconvert_exporter": "python",
      "pygments_lexer": "ipython3",
      "version": "3.9.6"
    },
    "nteract": {
      "version": "0.15.0"
    },
    "vscode": {
      "interpreter": {
        "hash": "afb0edaf3b3f70bcb49dca4bd8538b9e965e464d20941fdefd91078e019aa396"
      }
    },
    "colab": {
      "provenance": [],
      "include_colab_link": true
    }
  },
  "nbformat": 4,
  "nbformat_minor": 0
}